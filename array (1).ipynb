{
 "cells": [
  {
   "cell_type": "code",
   "execution_count": 1,
   "id": "1eb6228c-a29c-4244-937d-7d5be51e13fd",
   "metadata": {},
   "outputs": [
    {
     "name": "stdout",
     "output_type": "stream",
     "text": [
      "[10 20 30 40 50]\n"
     ]
    }
   ],
   "source": [
    "import numpy as np\n",
    "arr=np.array([10,20,30,40,50])\n",
    "print(arr)"
   ]
  },
  {
   "cell_type": "code",
   "execution_count": 5,
   "id": "16166611-2624-4034-b586-7a8ce9227158",
   "metadata": {},
   "outputs": [
    {
     "name": "stdout",
     "output_type": "stream",
     "text": [
      "<class 'numpy.ndarray'>\n"
     ]
    }
   ],
   "source": [
    "# checking numpy version\n",
    "import numpy as np\n",
    "arr=np.array([10,20,30])\n",
    "\n",
    "print(type(arr))"
   ]
  },
  {
   "cell_type": "code",
   "execution_count": 6,
   "id": "c2a78a85-27e0-4441-adaf-601447c2188d",
   "metadata": {},
   "outputs": [
    {
     "name": "stdout",
     "output_type": "stream",
     "text": [
      "[ 45   3  67 234  89]\n",
      "<class 'numpy.ndarray'>\n"
     ]
    }
   ],
   "source": [
    "#converting tuple into array\n",
    "\n",
    "arr2=np.array((45,3,67,234,89))\n",
    "print(arr2)\n",
    "print(type(arr2))\n",
    "\n"
   ]
  },
  {
   "cell_type": "code",
   "execution_count": 17,
   "id": "d87664be-f882-44b4-9d08-054b7f9f1d7c",
   "metadata": {},
   "outputs": [
    {
     "name": "stdout",
     "output_type": "stream",
     "text": [
      "24\n",
      "[10 20 30 40 50]\n",
      "[[10 20 30]\n",
      " [40 50 60]]\n",
      "[[[10 30 45 50]\n",
      "  [18 56 89 60]\n",
      "  [78 45 23 75]]]\n"
     ]
    }
   ],
   "source": [
    "# 0D array\n",
    "arr1=np.array(24)\n",
    "print(arr1)\n",
    "# 1D aray\n",
    "arr2=np.array([10,20,30,40,50])\n",
    "print(arr2)\n",
    "# 2D aray\n",
    "arr3=np.array([[10,20,30],[40,50,60]])\n",
    "print(arr3)\n",
    "# 3D aray\n",
    "arr4=np.array([[[10,30,45,50],[18,56,89,60],[78,45,23,75]]])\n",
    "print(arr4)\n"
   ]
  },
  {
   "cell_type": "code",
   "execution_count": 15,
   "id": "09fcdd68-ae49-4ada-ade1-f35993df7cd1",
   "metadata": {},
   "outputs": [
    {
     "name": "stdout",
     "output_type": "stream",
     "text": [
      "3\n"
     ]
    }
   ],
   "source": [
    "#checking dimensions of array\n",
    "arr4=np.array([[[10,30,45,50],[18,56,89,60],[78,45,23,75]]])\n",
    "print(arr4.ndim)"
   ]
  },
  {
   "cell_type": "code",
   "execution_count": 3,
   "id": "2896d6ea-780b-480d-af9f-d4969af7c554",
   "metadata": {},
   "outputs": [
    {
     "name": "stdout",
     "output_type": "stream",
     "text": [
      "2.3.0\n"
     ]
    }
   ],
   "source": [
    "#checking version of Numpy\n",
    "import numpy as np\n",
    "print(np.__version__)"
   ]
  },
  {
   "cell_type": "code",
   "execution_count": 7,
   "id": "a203df4e-d24b-4f52-bb70-5b51fc47e7c5",
   "metadata": {},
   "outputs": [
    {
     "name": "stdout",
     "output_type": "stream",
     "text": [
      "14\n",
      "67\n",
      "2nd element of 2nd row 20\n"
     ]
    }
   ],
   "source": [
    "# accessing element of array\n",
    "arr1=np.array([12,13,14,15,16])\n",
    "print(arr1[2])\n",
    "arr2=np.array([[10,20,30,40],[23,45,67,89]])\n",
    "print(arr2[1,2])\n",
    "# OR we can access like this\n",
    "print('2nd element of 2nd row',arr2[0,1])"
   ]
  },
  {
   "cell_type": "code",
   "execution_count": 9,
   "id": "ee9e630d-4b08-4fa7-8c36-9b28432fd53f",
   "metadata": {},
   "outputs": [
    {
     "name": "stdout",
     "output_type": "stream",
     "text": [
      "89\n"
     ]
    }
   ],
   "source": [
    "# negative indexing\n",
    "arr2=np.array([[10,20,30,40],[23,45,67,89]])\n",
    "print(arr2[1,-1])"
   ]
  },
  {
   "cell_type": "code",
   "execution_count": 15,
   "id": "af92ede1-c0eb-43b0-9919-6f7a2dba42b2",
   "metadata": {},
   "outputs": [
    {
     "name": "stdout",
     "output_type": "stream",
     "text": [
      "[30 67 21]\n"
     ]
    }
   ],
   "source": [
    "# slicing in array\n",
    "#positive slicing\n",
    "arr=np.array([20,30,45,67,33,21,41])\n",
    "print(arr[1:6:2])\n",
    "# negavtive slicing\n",
    "arr2=np.array([1,2,3,4,5,6,7,8,9,0])\n",
    "print(arr2[])"
   ]
  },
  {
   "cell_type": "code",
   "execution_count": 21,
   "id": "92aca092-2399-48d8-bd54-8cb4633c884d",
   "metadata": {},
   "outputs": [
    {
     "name": "stdout",
     "output_type": "stream",
     "text": [
      "int64\n",
      "float64\n",
      "<U1\n",
      "float64\n"
     ]
    }
   ],
   "source": [
    "#checking data type of array\n",
    "arr=np.array([12,3,4,123,5,6,75])\n",
    "print(arr.dtype)\n",
    "arr1=np.array([1.2,34.7,12.89,9.34,7])\n",
    "print(arr1.dtype)\n",
    "arr2=np.array(['k','w','v','r','b','s'])\n",
    "print(arr2.dtype)\n",
    "arr3=np.array([23.45000,346.7890654,90.3456])\n",
    "print(arr3.dtype)"
   ]
  },
  {
   "cell_type": "code",
   "execution_count": 32,
   "id": "43f36789-d855-4928-adaa-eb0238481a4d",
   "metadata": {},
   "outputs": [
    {
     "name": "stdout",
     "output_type": "stream",
     "text": [
      "(4, 3)\n",
      "[[1 2 3 4]\n",
      " [5 6 7 5]\n",
      " [2 7 9 6]]\n"
     ]
    }
   ],
   "source": [
    "# shape of an array\n",
    "arr=np.array([[12,13,12],[23,67,12],[78,98,67],[87,6,45]])\n",
    "print(arr.shape)\n",
    "# reshaping array\n",
    "arr2=np.array([1,2,3,4,5,6,7,5,2,7,9,6])\n",
    "newarr=arr2.reshape(3,4)\n",
    "print(newarr)"
   ]
  },
  {
   "cell_type": "code",
   "execution_count": 28,
   "id": "f5790fcf-192d-4026-bd4f-b1a779e33d02",
   "metadata": {},
   "outputs": [
    {
     "name": "stdout",
     "output_type": "stream",
     "text": [
      "12\n"
     ]
    }
   ],
   "source": [
    "#size of an array\n",
    "arr3=np.array([[12,13,12],[23,67,12],[78,98,67],[87,6,45]])\n",
    "print(arr3.size)"
   ]
  },
  {
   "cell_type": "code",
   "execution_count": 35,
   "id": "56de13fb-cf7b-49e8-83a9-5945988e1675",
   "metadata": {},
   "outputs": [
    {
     "name": "stdout",
     "output_type": "stream",
     "text": [
      "2\n",
      "6\n",
      "8\n",
      "7\n",
      "0\n",
      "3\n"
     ]
    }
   ],
   "source": [
    "# iterating array\n",
    "arr=np.array([2,6,8,7,0,3])\n",
    "for i in arr:\n",
    "    print(i)"
   ]
  },
  {
   "cell_type": "code",
   "execution_count": 36,
   "id": "16d77d8e-8f45-46be-baf8-dc76c2eb8c59",
   "metadata": {},
   "outputs": [
    {
     "name": "stdout",
     "output_type": "stream",
     "text": [
      "[12 34 65 23 45 23 43]\n"
     ]
    }
   ],
   "source": [
    "# joining array\n",
    "#concanitating array\n",
    "arr1=np.array([12,34,65,23])\n",
    "arr2=np.array([45,23,43])\n",
    "arr=np.concatenate((arr1,arr2))\n",
    "print(arr)\n",
    "\n"
   ]
  },
  {
   "cell_type": "code",
   "execution_count": 44,
   "id": "bbf3f00b-1fee-47e8-acd7-43351dfc8441",
   "metadata": {},
   "outputs": [
    {
     "name": "stdout",
     "output_type": "stream",
     "text": [
      "[array([1, 2]), array([3, 4]), array([5, 6]), array([7, 5]), array([2]), array([7]), array([9]), array([6])]\n"
     ]
    }
   ],
   "source": [
    "# spliting array\n",
    "arr2=np.array([1,2,3,4,5,6,7,5,2,7,9,6])\n",
    "newarr=np.array_split(arr2,8)\n",
    "print(newarr)"
   ]
  },
  {
   "cell_type": "code",
   "execution_count": null,
   "id": "9d8da285-323e-4d4e-b1cd-09999d6c0e06",
   "metadata": {},
   "outputs": [],
   "source": []
  },
  {
   "cell_type": "code",
   "execution_count": null,
   "id": "da7ca848-3501-497f-895c-2e40adde154c",
   "metadata": {},
   "outputs": [],
   "source": []
  },
  {
   "cell_type": "code",
   "execution_count": null,
   "id": "0dba524d-67e0-4baf-accb-57dd0258833f",
   "metadata": {},
   "outputs": [],
   "source": []
  }
 ],
 "metadata": {
  "kernelspec": {
   "display_name": "Python 3 (ipykernel)",
   "language": "python",
   "name": "python3"
  },
  "language_info": {
   "codemirror_mode": {
    "name": "ipython",
    "version": 3
   },
   "file_extension": ".py",
   "mimetype": "text/x-python",
   "name": "python",
   "nbconvert_exporter": "python",
   "pygments_lexer": "ipython3",
   "version": "3.13.3"
  }
 },
 "nbformat": 4,
 "nbformat_minor": 5
}
